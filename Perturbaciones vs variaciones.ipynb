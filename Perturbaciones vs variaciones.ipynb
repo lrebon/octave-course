{
 "cells": [
  {
   "cell_type": "markdown",
   "metadata": {
    "heading_collapsed": false,
    "level": 1
   },
   "source": [
    "# Métodos de resolución de la Ec. de Schrödinger estacionaria"
   ]
  },
  {
   "cell_type": "markdown",
   "metadata": {
    "ExecuteTime": {
     "end_time": "2017-04-16T16:57:22.027564",
     "start_time": "2017-04-16T16:57:22.019640"
    },
    "level": 7
   },
   "source": [
    "Los estados estacionarios de la Ec. de Schrödinger son aquellos que satisfacen la Ec. \n",
    "\n",
    "$$\n",
    "E_n \\Psi_n = {\\bf H}\\Psi_n\n",
    "$$\n",
    "donde  ${\\bf H}$ es el Hamiltoniano del sistema y $E_n$ los posibles valores de la energía. En particular, muchas veces estamos interesados en el estado fundamental $\\Psi_0$ que satisface $E_0 \\leq E_n \\forall_n$. \n",
    "\n",
    "En general, el problema de encontrar el espectro y las correspondientes autofunciones no admite soluciones analíticas, aún si sólo nos restringimos al estado fundamental. Más aún, puede ocurrir que la solución directa de la Ec. de Schr\\\"odinger no sea siquiera numéricamente tratable, como veremos más adelante al analizar el caso de sistemas de muchas partículas.\n",
    "\n",
    "\n",
    "En estas notas nos enfocaremos en el caso del problema de encontrar el estado fundamental de una partícula no relativista en un potencial. En este caso, el Hamiltoniano es de la forma \n",
    "\n",
    "$$\n",
    "{\\bf H}= -\\frac{\\hbar^2}{2m}\\nabla^2 + V(r)\n",
    "$$\n",
    "\n",
    "Atacaremos a través de dos aproximaciones: el tratamiento perturbativo y el método variacional. Finalmente, discutiremos una técnica para encontrar numéricamente las soluciones de la Ec. de Schrödinger en el caso unidimensional, lo que nos permitirá comparar los resultados.\n",
    "\n",
    "\n",
    "Para los ejemplos, consideraremos el potencial unidimensional de la forma $V(x)=-U_0 e^{-(x/x_0)^2}$.  "
   ]
  },
  {
   "cell_type": "markdown",
   "metadata": {
    "heading_collapsed": false,
    "level": 2
   },
   "source": [
    "## Adimensionalización de la ecuación"
   ]
  },
  {
   "cell_type": "markdown",
   "metadata": {
    "level": 7
   },
   "source": [
    "Un paso previo a intentar resolver la Ec. de Schröedinger (o cualquier otra ecuación en física) reescribirla en términos de cantidades adimensionales. En el caso de la Ec. de Schrödinger no relativista, una forma de adimensionalizar es elegir una escala de longitudes $x_0$. \n",
    "\n",
    "En el caso de potenciales de corto alcance (como el del ejemplo) esta longitud puede elegirse igual al alcance del potencial. \n",
    "\n",
    "\n",
    "\n",
    "En el caso de potenciales de largo alcance ($\\approx C/r^{\\alpha}$), eligiendo $x_0=\\left(\\frac{ 2 m C}{\\hbar^2}\\right) ^{1/(\\alpha-2)} $ \n",
    "\n",
    "\n",
    "Para el caso del pseudopotencial \"de contacto\" unidimensional, $V(x)=\\lambda \\delta(x)$, podemos elegir $x_0=\\frac{\\hbar^2}{4 m \\lambda}$, de manera que \n",
    "$$\n",
    "-\\tilde{\\psi}''(u)-\\frac{1}{2}\\delta(u) \\tilde{\\psi}(u)-\\tilde{E}\\tilde{\\psi}(u)=0\n",
    "$$"
   ]
  },
  {
   "cell_type": "markdown",
   "metadata": {
    "ExecuteTime": {
     "end_time": "2017-04-16T18:03:09.058632",
     "start_time": "2017-04-16T18:03:09.053682"
    },
    "level": 7
   },
   "source": [
    "En cualquier caso, las energías y autofunciones normalizadas del Hamiltoniano original toman la forma\n",
    "$$\n",
    "\\Psi_n(x)=\\tilde{\\Psi}_n(x/x_0)/x_0^{1/2}\n",
    "$$\n",
    "$$\n",
    "E=\\tilde{E} \\frac{\\hbar^2}{2 m x_0^2}\n",
    "$$\n",
    "donde $\\tilde{E}$ y $\\tilde{\\Psi}(u)$ son autovalores y autofunciones de la Ec. adimensional\n",
    "$$\n",
    "\\tilde{E}_n\\tilde{\\Psi}_n(u)=-\\tilde{\\Psi}''_n(u) + \\tilde{V}(u)\\tilde{\\Psi}_n(u)\n",
    "$$\n",
    "con \n",
    "$$\n",
    "\\tilde{V}(u)=\\frac{2 m x_0^2}{\\hbar^2}V(x_0 u)\n",
    "$$\n",
    "eligiendo $\\tilde{\\Psi}_n(u)$ normalizadas de manera que $\\int |\\tilde{\\Psi}_n(u)|^2 du=1$"
   ]
  },
  {
   "cell_type": "markdown",
   "metadata": {
    "level": 7
   },
   "source": [
    " "
   ]
  },
  {
   "cell_type": "markdown",
   "metadata": {
    "heading_collapsed": false,
    "level": 2
   },
   "source": [
    "## Método de potenciales aproximados"
   ]
  },
  {
   "cell_type": "markdown",
   "metadata": {
    "heading_collapsed": true,
    "level": 3
   },
   "source": [
    "### Aproximación por un pozo cuadrado"
   ]
  },
  {
   "cell_type": "markdown",
   "metadata": {
    "level": 7
   },
   "source": [
    "Si el potencial está localizado, es posible aproximarlo por un pozo de potencial que lo contenga. La diferencia entre el potencial tipo pozo y el potencial real puede entonces tomarse como una perturbación."
   ]
  },
  {
   "cell_type": "markdown",
   "metadata": {
    "level": 7
   },
   "source": [
    "En nuestro ejemplo, $V(u)=-U_0 e^{-u^2}$ podría aproximarse por un pozo de potencial cuadrado de ancho $2$ y profundidad $U_0$, de manera que\n",
    "\n",
    "$$\n",
    "V(u)= - U_0  \\Theta(1-u^2) + \\delta V(u)\n",
    "$$\n",
    "con $\\delta V(u)=-U_0 (e^{-u^2}-\\Theta(1-u^2))$\n",
    "\n",
    "donde $\\Theta(u)=\\left\\{_{0 \\;\\;u>0}^{1 \\;\\; u<0}\\right.$"
   ]
  },
  {
   "cell_type": "markdown",
   "metadata": {
    "ExecuteTime": {
     "end_time": "2017-04-17T12:48:09.106843",
     "start_time": "2017-04-17T12:48:09.101034"
    },
    "level": 7
   },
   "source": [
    "Los niveles para el pozo pueden calcularse como  $E_n=k_n^2 - U_0$\n",
    "\n",
    "\n",
    "\n",
    "donde $k_n$ son las soluciones de la ecuación trascendente\n",
    "\n",
    "$$\n",
    "\\sqrt{U_0/(k_n/2)^2-1} = \\tanh(2 k_n)\n",
    "$$\n",
    "que son de la forma $\\delta_n \\frac{\\pi (n+1) }{2}$ con $\\delta_n$ un número próximo a 1.\n",
    "\n",
    "Las correcciones a estas energías debido a la diferencia con el potencial real, a primer orden, serán de la forma $\\int_{-\\infty}^{\\infty} |\\psi_n(u)|^2 \\delta V(u) du$. Debido a la simetría de paridad del potencial, sólo tendran correcciones las soluciones pares, de manera que $\\delta E_n \\approx \\frac{\\int_0^{1} \\cos(k_n u)^2\\delta V(u) du + \\int_{1}^{\\infty}\\delta V(u)e^{-2\\alpha_n u} du}{\\int_0^{1} \\cos(k_n u)^2 du + \\int_{1}^{\\infty}e^{-2\\alpha_n u} du}$ \n",
    "\n",
    "\n",
    "Para $U_0\\gg 1$, sin embargo, las correcciones dejan de ser perturbativas y este método falla."
   ]
  },
  {
   "cell_type": "markdown",
   "metadata": {
    "ExecuteTime": {
     "end_time": "2017-04-17T17:33:40.907891",
     "start_time": "2017-04-17T17:33:40.904607"
    },
    "heading_collapsed": false,
    "level": 3
   },
   "source": [
    "### Aproximación armónica"
   ]
  },
  {
   "cell_type": "markdown",
   "metadata": {
    "level": 7
   },
   "source": [
    "Si el potencial presenta un mínimo absoluto, y este es suficientemente \"profundo\", la función de onda del estado fundamental estará localizada en el entorno de ese mínimo. En tal caso, es posible aproximar el potencial en torno al mínimo por un potencial armónico. En el caso del potencial gaussiano obtenemos por ejemplo\n",
    "\n",
    "$$\n",
    "-\\tilde{U_0} e^{-u^2} = -\\tilde{U_0} + \\tilde{U_0} u^2 + \\delta V(u)\n",
    "$$\n",
    "donde $\\delta V(u)\\approx 0$ si $u<1$."
   ]
  },
  {
   "cell_type": "markdown",
   "metadata": {
    "level": 7
   },
   "source": [
    "La aproximación será válida si la contribución de $\\delta V(u)$ sobre el soporte de las funciones de onda estimadas es suficientemente pequeño. En nuestro ejemplo, esta aproximación lleva a un espectro aproximado de la forma $E_n=\\frac{\\hbar^2}{2 m x_0^2}\\sqrt{\\tilde{U}_0}(2 n +1) -U_0$, con $E_n<0$.\n",
    "Las autofunciones correspondientes son de la forma\n",
    "$$\n",
    "\\Psi_{n}(u)=e^{-\\sqrt{U_0}u^2/2}H_n(\\sqrt[4]{U_0}u)\n",
    "$$\n",
    "donde $H_n(x)$ son los Polinomios de Hermite. El soporte efectivo de estas funciones de onda\n",
    "se extiende en la región $|u|<\\frac{\\sqrt{2n+1}}{\\sqrt[4]{U_0}}$. Por otro lado, $\\delta V(u)$ es despreciable en la zona $|u|<1$, de manera que las autofunciones serán razonablemente aproximadas si $2 n+1 <\\sqrt{U_0}\\Rightarrow  \\sqrt{U_0}(2 n+1)- U_0=E_n <0$. \n",
    "\n",
    "Vemos que en este caso, a diferencia de la aproximación por un pozo, resulta válida para valores grandes de $U_0$."
   ]
  },
  {
   "cell_type": "markdown",
   "metadata": {
    "heading_collapsed": false,
    "level": 3
   },
   "source": [
    "### Aproximación por un pseudopotencial"
   ]
  },
  {
   "cell_type": "markdown",
   "metadata": {
    "level": 7
   },
   "source": [
    "Otro potencial 1D para el que la Ec. de Schrödinger es exactamente soluble es el del pseudopotencial ${U}(x)= -\\frac{\\hbar ^2}{m x_0}\\delta(x)$. En este caso, el espectro ligado sólo tiene un único nivel con $E=-\\frac{\\hbar ^2}{2 m x_0^2}$ y autofuncion $\\Psi_0(u)=e^{-|x|/x_0}$. \n",
    "\n",
    "Podemos conectar este resultado con el resultado para el potencial gaussiano notando que\n",
    "\n",
    "$$\n",
    "\\delta(x)=\\lim_{\\xi \\rightarrow 0} \\frac{e^{-(x/(\\xi x_0))^2}}{\\sqrt{\\pi}\\xi x_0}\n",
    "$$"
   ]
  },
  {
   "cell_type": "markdown",
   "metadata": {
    "level": 7
   },
   "source": [
    "Remplazando en la Ec. de Schrödinger,\n",
    "\n",
    "$$\\lim_{{\\xi\\rightarrow 0}}-\\psi^{''}(x)-\\frac{2}{\\sqrt{\\pi}\\xi x_0^2}e^{-(x/(\\xi x_0))^2}{\\psi}(x)+ \\frac{1}{x_0^2}{\\psi}(x)= 0$$\n",
    "\n",
    "ó, adimensionalizando  respecto a la escala $\\xi x_0$, tenemos\n",
    "\n",
    "\n",
    "$$-\\tilde{\\psi}^{''}(v)+\\frac{2\\xi}{\\sqrt{\\pi}}e^{-v^2}\\tilde{\\psi}(v)+\\xi^2 \\tilde{\\psi}(v)\\approx 0$$\n",
    "\n",
    "que es la ecuación de Schödinger adimensionalizada para el potencial gaussiano, remplazando \n",
    "\n",
    "$$\\tilde{U}_0=\\frac{2 m U_0 }{\\hbar^2 x_0^2} \\rightarrow \\xi/\\sqrt{\\pi/4}\\,.$$ Esto es válido si $\\xi \\ll 1$, por lo que la aproximación será válida si\n",
    "$\\tilde{U}_0\\ll 1$. En tal límite, el potencial gaussiano tendrá un único estado ligado con energía de ligadura\n",
    "\n",
    "$$\n",
    "E=-\\frac{\\hbar^2 x_0^2}{2 m }\\xi^2=  \\frac{ \\pi}{4} (\\frac{2 m U_0^2 }{\\hbar^2 x_0^2})\n",
    "$$"
   ]
  },
  {
   "cell_type": "markdown",
   "metadata": {
    "level": 7
   },
   "source": [
    "A grandes distancias, la función de onda se comportará también como $\\Psi(x)\\approx e^{-x_0 x/|\\sqrt{4\\pi} \\frac{2 m U_0}{\\hbar^2}|}$"
   ]
  },
  {
   "cell_type": "markdown",
   "metadata": {
    "level": 7
   },
   "source": [
    "Si bien por la forma en que lo derivamos, sugiere que este resultado es válido sólo para potenciales gaussianos, podríamos repetir el mismo razonamiento para otros potenciales acotados y localizados (por ejemplo, el pozo cuadrado) y llegar a la siguiente conclusión general: en el límite de acoplamiendo débil, estos potenciales poseen un espectro equivalente al del pseudo potencial tipo delta, con parámetro $x_0= \\frac{\\hbar^2 }{m}  |\\int V(x)dx|^{-1}$"
   ]
  },
  {
   "cell_type": "markdown",
   "metadata": {},
   "source": [
    "Notemos que en este caso, como el sistema tiene un único estado ligado, la expansión perturbativa a segundo orden implica tener en cuenta las posibles transiciones en al continuo."
   ]
  },
  {
   "cell_type": "markdown",
   "metadata": {
    "heading_collapsed": false,
    "level": 2
   },
   "source": [
    "## Método variacional"
   ]
  },
  {
   "cell_type": "markdown",
   "metadata": {
    "level": 7
   },
   "source": [
    "En la ecuación de Schrödinger unidimensional, a nivel numérico, la mayor dificultad se encuentra en determinar el espectro de energías del Hamiltoniano. Conocido el espectro de energías, resolver la Ec. se reduce a encontrar la solución de una ecuación diferencial ordinaria con condiciones sobre un único borde, lo que puede lograrse eficientemente por integración numérica.  Por otro lado, muchas veces nos interesa encontrar aproximaciones analíticas simples para el estado fundamental del sistema. El método de Rayleight-Ritz nos da una estrategia para atacar ambos problemas. \n",
    "\n",
    "El método se basa en que como las autofunciones del Hamiltoniano forman una base completa, dada cualquier función $\\chi(u)$, es posible expandirla como combinación lineal de las autofunciones de ${\\bf H}$:\n",
    "$$\n",
    "\\chi(u)=\\sum a_n \\phi_{n}(u)\n",
    "$$\n",
    "Luego,\n",
    "$$\n",
    "\\frac{\\int \\chi*(u){\\bf H}\\chi(u)du}{\\int \\chi^*(u)\\chi(u)du }=\n",
    "\\frac{\\sum_{n,n'}\\int \\phi_n^*(u){\\bf H}\\phi_{n'}(u)du}{\\sum_{n,n'}\\int \\phi_n^*(u)\\phi_{n'}(u)du }=\n",
    "\\frac{\\sum_n |a_n|^2 e_n}{|a_n|^2 } \\geq e_0\n",
    "$$\n",
    "Esto nos permite reformular el problema de encontrar la energía del estado fundamental como\n",
    "\n",
    "$$\n",
    "e_0 = \\min_{\\chi} \\frac{\\int \\chi*(u){\\bf H}\\chi(u)du}{\\int \\chi^*(u)\\chi(u)du }\n",
    "$$\n",
    "El problema de optimización sobre funciones generales resulta igual de difícil que el original. Sin embargo, podemos encontrar una cota superior al mínimo, (y una estimación del estado) optimizando sobre una sub-familia de funciones:\n",
    "\n",
    "$$\n",
    "e_0 < \\min_{\\chi \\in{\\cal F}} \\frac{\\int \\chi*(u){\\bf H}\\chi(u)du}{\\int \\chi^*(u)\\chi(u)du }\n",
    "=\\min_{\\chi \\in{\\cal F}} \\langle {\\bf H}_{\\chi} \\rangle\n",
    "$$\n",
    "\n",
    "\n",
    "Para el caso del problema unidimensional, podemos encontrar cotas razonables buscando sobre familias de funciones que no presenten nodos."
   ]
  },
  {
   "cell_type": "markdown",
   "metadata": {
    "heading_collapsed": false,
    "level": 3
   },
   "source": [
    "### Aproximación por gaussianas\n"
   ]
  },
  {
   "cell_type": "markdown",
   "metadata": {
    "heading_collapsed": false,
    "level": 7
   },
   "source": [
    "\n",
    "Si el potencial está localizado, una familia conveniente de funciones de prueba normalizadas son las funciones gaussianas:\n",
    "$$\n",
    "    \\chi_{a,u_0}(u)=\\frac{e^{-(a/x_0)^2 (x-x_0)^2/2}}{\\sqrt[4]{\\pi}}\\sqrt{a/x_0}\n",
    "$$\n",
    "Estas resultan ser las funciones de onda exactas del estado fundamental si el potencial es un oscilador armónico centrado en $x_0$.\n",
    "\n",
    "Si además el potencial es sim\\'etrico ante reflecciones respecto al eje x, podemos asumir que $u_0$, con lo que tenemos una familia de funciones con un único parámetro libre.\n",
    "\n",
    "Para esta familia, el término cinético viene dado por\n",
    "$$\n",
    "\\langle T \\rangle =-\\int_{-\\infty}^{\\infty} \\chi(u)\\chi^{''}(u)du= \\frac{\\hbar^2}{2 m x_0^2}\\frac{a^2}{2}\n",
    "$$\n",
    "\n",
    "El termino asociado al potencial viene dado por\n",
    "$$\n",
    "\\langle V\\rangle = \\int_{-\\infty}^{\\infty} \\chi(u)U(u)\\chi(u)du\n",
    "$$\n",
    "que para el caso del potencial gaussiano,\n",
    "$$\n",
    "\\langle V\\rangle = \\frac{-{U}_0 a}{\\sqrt{\\pi}}\\int_{-\\infty}^{\\infty} e^{-(1+a^2)u^2}du=\n",
    "\\frac{-U_0 a}{\\sqrt{a^2+1}}\n",
    "$$\n",
    "\n",
    "\n",
    "de manera que la función a optimizar será\n",
    "$$\n",
    "\\langle E\\rangle_a = \\frac{\\hbar^2}{2 m x_0^2}\\left(\\frac{a^2}{2} - \\frac{\\tilde{U}_0 a}{\\sqrt{a^2+1}}\\right)\n",
    "$$\n"
   ]
  },
  {
   "cell_type": "markdown",
   "metadata": {
    "level": 7
   },
   "source": [
    "Derivando respecto de $a$ obtenemos la condición estacionaria:\n",
    "\n",
    "$$\n",
    "a-\\frac{\\tilde{U}_0}{(a^2+1)^{3/2}}=0\n",
    "$$\n",
    "\n",
    "o, \n",
    "\n",
    "$$\n",
    "(a^2+1)^{3} a^2-{\\tilde{U}_0^2}=0\n",
    "$$\n",
    "que es una ecuación polinómica de grado 4 en $a^2$, por lo que admite una solución analítica:"
   ]
  },
  {
   "cell_type": "markdown",
   "metadata": {
    "level": 7
   },
   "source": [
    "$a^2={\\frac{1}{4} \\sqrt{-\\frac{16 \\sqrt[3]{\\frac{2}{3}} \\tilde{U}_0\n",
    "   ^2}{\\sqrt[3]{\\sqrt{3} \\sqrt{256 \\tilde{U}_0^6 + 27 \\tilde{U}_0 ^4}-9 \\tilde{U}_0\n",
    "   ^2}}+2 \\left(\\frac{2}{3}\\right)^{2/3} \\sqrt[3]{\\sqrt{3} \\sqrt{256 \\tilde{U}_0\n",
    "   ^6+27 \\tilde{U}_0^4}-9 \\tilde{U}_0 ^2}+1}+\\frac{1}{2} \\sqrt{\\frac{4\n",
    "   \\sqrt[3]{\\frac{2}{3}} \\tilde{U}_0 ^2}{\\sqrt[3]{\\sqrt{3} \\sqrt{256 \\tilde{U}_0\n",
    "   ^6+27 \\tilde{U}_0^4}-9 \\tilde{U}_0 ^2}}-\\frac{\\sqrt[3]{\\sqrt{3} \\sqrt{256\n",
    "   \\tilde{U}_0^6+27 \\tilde{U}_0 ^4}-9 \\tilde{U}_0 ^2}}{\\sqrt[3]{2} 3^{2/3}}+\\frac{1}{2\n",
    "   \\sqrt{-\\frac{16 \\sqrt[3]{\\frac{2}{3}} \\tilde{U}_0 ^2}{\\sqrt[3]{\\sqrt{3}\n",
    "   \\sqrt{256 \\tilde{U}_0 ^6+27 \\tilde{U}_0 ^4}-9 \\tilde{U}_0 ^2}}+2\n",
    "   \\left(\\frac{2}{3}\\right)^{2/3} \\sqrt[3]{\\sqrt{3} \\sqrt{256 \\tilde{U}_0 ^6+27\n",
    "   \\tilde{U}_0 ^4}-9 \\tilde{U}_0 ^2}+1}}+\\frac{1}{2}}-\\frac{3}{4}}$"
   ]
  },
  {
   "cell_type": "markdown",
   "metadata": {
    "level": 7
   },
   "source": [
    "Lo que no nos dice mucho...  más útil es estimar su comportamiento asintótico. Para $\\lambda \\ll 1$, \n",
    "$a\\approx \\lambda$. Para ver esto podemos usar el \"método autoconsistente\": si reescribimos la ecuaci\\'on como\n",
    "\n",
    "$$\n",
    "a^2 = \\frac{\\tilde{U}_0^2}{(a^2+1)^3}\n",
    "$$\n",
    "\n",
    "lo que sugiere proponer la secuencia $a_0=0$, $a^2_{n+1}= \\frac{\\tilde{U}_0^2}{(a_{n}^2+1)^3}$ de manera que si la secuencia converge, esta lo hará a la solución de la ecuación. \n",
    "\n",
    "Inspeccionando los primeros términos, y asumiendo $\\tilde{U}_0\\ll 1$ encontramos\n",
    "\n",
    "$$\n",
    "a_{1}=\\tilde{U}_0\\;\\;\\;a_2= \\frac{\\tilde{U}_0}{(1+\\tilde{U}_0^2)^{3/2}}\\approx \\tilde{U}_0 + {\\cal O}^{5/2}(\\tilde{U}_0)\n",
    "$$\n",
    "\n",
    "Por otro lado,  si $\\tilde{U}_0\\rightarrow \\infty$, $a \\approx \\sqrt[4]{\\tilde{U}_0}$. Para verlo, proponemos que  $a_0=\\tilde{U}_0^{\\alpha}$, de manera que $\\alpha$ satisfaga la ecuación aproximada\n",
    "$$\n",
    "\\tilde{U}_0^{\\alpha} = \\frac{\\tilde{U}_0}{(1+\\tilde{U}_0^{2\\alpha})^{3/2}}\\approx \\tilde{U}_0^{1-3\\alpha}\\Rightarrow \\alpha=1/4\n",
    "$$\n",
    "\n",
    "Luego,\n",
    "\n",
    "$$\n",
    "a \\approx a_1 =\\frac{\\tilde{U}_0}{(1+\\tilde{U}_0^{1/2})^{3/2}}\\approx \\tilde{U}_0^{1/4}-\\frac{3}{2}\\tilde{U}_0^{-1/4}+{\\cal O}^{-3/4}(\\tilde{U}_0)\n",
    "$$\n",
    "\n",
    "\n"
   ]
  },
  {
   "cell_type": "markdown",
   "metadata": {
    "level": 7
   },
   "source": [
    "Remplazando ambos casos en la energía obtenemos\n",
    "\n",
    "$$\n",
    "E_0 \\approx \\left\\{  \n",
    "\\begin{array}{l r}\n",
    "-\\frac{m x_0^2 {U}^2_0}{\\hbar^2} & \\tilde{U}_0 < 1\\\\\n",
    "-U_0 + \\sqrt{U_0} & \\tilde{U}_0 > 1\\\\\n",
    "\\end{array}\n",
    "\\right.\n",
    "$$"
   ]
  },
  {
   "cell_type": "markdown",
   "metadata": {
    "heading_collapsed": false,
    "level": 3
   },
   "source": [
    "### Aproximación por funciones armónicas"
   ]
  },
  {
   "cell_type": "markdown",
   "metadata": {
    "level": 7
   },
   "source": [
    "Una tercera aproximación es aproximar la solución del problema por aquellas correspondientes a un pozo de potencial \"infinito\" de un cierto tamaño: \n",
    "$$\n",
    "\\Psi(a)=\\left\\{\\begin{array}{l r}\n",
    "\\frac{\\cos(a \\pi x/(2 x_0))}{\\sqrt{x_0/a}} &  |x|<x_0/a\\\\ \n",
    "0 & |x|>x_0/a\n",
    "\\end{array}\\right .\n",
    "$$\n"
   ]
  },
  {
   "cell_type": "markdown",
   "metadata": {
    "level": 7
   },
   "source": [
    "La energía cinética media para estas funciones viene dada por\n",
    "$$\n",
    "\\langle T\\rangle_a= (\\frac{\\pi}{2})^2 \\frac{\\hbar^2}{2 m x_0^2} a^2\n",
    "$$\n",
    "mientras que la energía potencial\n",
    "\n",
    "\\begin{eqnarray}\n",
    "\\langle U \\rangle_{a} &=& -U_0 \\int_{-x_0/a}^{x_0/a} \\cos^2(a \\pi x/(2 x_0)) e^{-(x/x_0)^2}  \\frac{dx}{x_0/a}\\\\\n",
    "&=&-\\frac{ U_0}{\\pi/2} \\int_{0}^{\\pi/2} 2\\cos^2(u) e^{-( 2/(a \\pi)   u )^2}   du\\\\\n",
    "&=&-\\frac{ U_0}{\\pi/2} \\int_{0}^{\\pi/2} (1+\\cos(2 u))e^{-( 2/(a \\pi)   u )^2}   du\\\\\n",
    "&=&-U_0  a \\left(\n",
    "\\int_{0}^{\\pi/2} e^{-   u ^2}   du+\n",
    "\\Re \\int_{0}^{\\pi/2} \\exp({\\bf i}a \\pi u)e^{-   u ^2}   du \\right)\\\\\n",
    "&=&-U_0  a  \\frac{\\sqrt{\\pi}}{2}\\left(\n",
    "{\\rm erf}(1/a)+ e^{-a^2 \\pi^2/4} \\Re \\left({\\rm erf}(1/a -{\\bf i} a \\pi/2  )\\right) \\right)\\\\\n",
    "\\end{eqnarray}\n",
    "\n",
    "\n",
    "de esta manera\n",
    "\n",
    "$$\n",
    "\\langle E \\rangle_a=\\frac{\\hbar^2}{2 m x_0^2}\\left(\\left(\\frac{ \\pi a}{2 }\\right)^2- \\tilde{U}_0 \n",
    "a \\frac{\\sqrt{\\pi}}{2} \\left(\n",
    "{\\rm erf}(1/a)+  e^{-a^2 \\pi^2/4} \\Re \\left({\\rm erf}(1/a -{\\bf i} a \\pi/2  )\\right) \\right)\n",
    "\\right)\n",
    "$$\n",
    "\n",
    "Notamos a partir de su forma integral (3ra linea), la energía potencial está acotada por $-U_0\\leq \\langle U \\rangle_a\\leq 0$, límite que se satura cuando $a \\gtrapprox 1$ de manera que para  $\\tilde{U}_0 \\leq 1$, $a\\leq 2/\\pi<1$. En esta región podemos aproximar $\\langle U \\rangle_a\\approx -\\frac{U_0}{\\pi/2}\\int_0^{\\infty} 2 e^{-(2/(a \\pi) u)^2}du= a U_0 \\sqrt{\\pi}$  de manera que el mínimo se alcanzará para $a=2\\tilde{U}_0/\\sqrt{\\pi^3}$, con una energía de \n",
    "$\\langle E\\rangle \\approx -\\frac{1}{\\pi} U_0^2 \\frac{2 m x_0^2 }{\\hbar^2}$\n"
   ]
  },
  {
   "cell_type": "markdown",
   "metadata": {
    "heading_collapsed": false,
    "level": 3
   },
   "source": [
    "### Aproximación por estados \"cuasi-ligados\" "
   ]
  },
  {
   "cell_type": "markdown",
   "metadata": {
    "level": 7
   },
   "source": [
    "Los estados \"cuasi-ligados\" asociados al pseudopotencial deltiforme pertenecen a la familia\n",
    "$$\n",
    "\\Psi_a(x)=\\frac{e^{-a |x|/x_0}}{\\sqrt{x_0/a}}\n",
    "$$\n",
    "\n",
    "\n",
    "La energía cinética media viene dada por\n",
    "$$\n",
    "\\langle T\\rangle_a= -\\frac{\\hbar^2}{2 m}\\int_{-\\infty}^{\\infty} \\Psi_a(x) \\Psi_a^{''}(x)dx=\n",
    " a \\frac{\\hbar^2}{2 m x_0^2}\\int_{-\\infty}^{\\infty} -(e^{-a |u|}) (e^{-a |u|})^{''}(x)d u\n",
    "$$\n",
    "Notamos sin embargo al tratar de evaluar la integral que $(e^{-a |u|})^{''}$ no está bien definida. Para evaluar esta integral, integramos por partes con lo que obtenemos\n",
    "$$\n",
    "\\int_{-\\infty}^{\\infty} -(e^{-a |u|}) (e^{-a |u|})^{''}(x)d u=\n",
    "\\int_{-\\infty}^{\\infty} ((e^{-a |u|})^{'}(x))^2 d u = 2 a^2 \\int_{0}^{\\infty} e^{-2 u a} du= a\n",
    "$$\n",
    "y por lo tanto\n",
    "$$\n",
    "\\langle T\\rangle_a= \n",
    " \\frac{\\hbar^2 a^2 }{2 m x_0^2}\n",
    "$$\n",
    "\n",
    "Por otro lado, la energía potencial media vendrá dada por\n",
    "\\begin{eqnarray}\n",
    "\\langle U\\rangle_a &=& U_0 \\int_{-\\infty}^{\\infty} e^{-(x/x_0)^2}e^{-2 a |x|/x_0}\\frac{ dx}{x_0/a}\\\\\n",
    "&=& 2 a U_0 \\int_{0}^{\\infty} e^{-u^2}e^{-2 a u} du\\\\\n",
    "&=& 2 a U_0 e^{-a^2} \\int_{0}^{\\infty} e^{-(u+a )^2} du\\\\\n",
    "&=& 2 a U_0 e^{-a^2} \\int_{a}^{\\infty} e^{-u^2} du =  a U_0 e^{-a^2} \\sqrt{\\pi} (1-{\\rm erf}(a) )\n",
    "\\end{eqnarray}\n",
    "De manera que \n",
    "$$\n",
    "\\langle E\\rangle_a= \\frac{\\hbar^2}{2 m x_0^2}\\left(a^2 -\\sqrt{\\pi} \\tilde{U}_0 a e^{-a^2}(1-{\\rm erf}(a) )  \\right)\n",
    "$$\n",
    "\n",
    "Si $a\\ll 1$, podemos desarrollar la energía media a segundo orden en torno a $a=0$ de manera que\n",
    "$$\n",
    "\\langle E\\rangle_a\\approx \\frac{\\hbar^2}{2 m x_0^2}\\left(a^2 -\\sqrt{\\pi} \\tilde{U}_0 a (1- \\frac{2 a}{\\sqrt{\\pi}}  )  \\right)\n",
    "$$"
   ]
  },
  {
   "cell_type": "markdown",
   "metadata": {
    "level": 7
   },
   "source": [
    "con lo que el mínimo de energía se alcanza para $a_0=\\sqrt{\\pi}\\frac{\\tilde{U}_0}{2(1+2 \\tilde{U}_0)}$ donde \n",
    "$\\langle E\\rangle_{a_0}=  -\\frac{\\hbar^2}{2 m x_0^2}\\frac{\\pi}{4+8 \\tilde{U}_0}\\tilde{U}_0^2 \\approx -\n",
    "\\frac{\\pi}{4}\\frac{2 m x_0^2 {U}_0^2}{\\hbar^2}$ que es el resultado que obtendríamos para el pseudopotencial. \n"
   ]
  },
  {
   "cell_type": "markdown",
   "metadata": {
    "ExecuteTime": {
     "end_time": "2017-04-16T18:19:52.192862",
     "start_time": "2017-04-16T18:19:52.189559"
    },
    "heading_collapsed": false,
    "level": 2
   },
   "source": [
    "## Solución del problema de Sturm-Liouvile 1D. Método de Shooting"
   ]
  },
  {
   "cell_type": "markdown",
   "metadata": {
    "level": 7
   },
   "source": [
    "Un método alternativo para resolver numéricamente el espectro y las auto funciones de un Hamiltoniano en una dimensión consiste en definir la función\n",
    "$$\n",
    "b(E)=\\psi(x_2,E)\n",
    "$$\n",
    "donde $\\psi(x,E)$ es una solución de la ecuación diferencial $-\\frac{\\hbar^2}{2m} \\psi''(x)+(V(x)-E) \\psi(x)=0$\n",
    "con la condición $\\psi(x_1)=0$  $\\psi'(x_1)=1$ (o viceversa).\n",
    "\n",
    "Para cada $E$, es posible evaluar en forma relativamente eficiente $b(E)$ simplemente integrando la ecuación diferencial con métodos estandar como Runge-Kutta.\n",
    "\n",
    "Para encontrar el espectro ligado, buscamos luego los valores para los que $b(E)=0$. Para que el método resulte eficiente, es conveniente saber de antemano los valores aproximados de las energías que buscamos."
   ]
  },
  {
   "cell_type": "markdown",
   "metadata": {},
   "source": [
    "# Tratamiento numérico y comparación de los resultados"
   ]
  },
  {
   "cell_type": "code",
   "execution_count": 153,
   "metadata": {
    "collapsed": true,
    "level": 7
   },
   "outputs": [],
   "source": [
    "%matplotlib inline\n",
    "import numpy as np\n",
    "import matplotlib.pyplot as plt\n",
    "from numpy import sqrt,exp,pi,linspace,array\n",
    "from scipy.special import erf\n",
    "from scipy.optimize import minimize_scalar\n",
    "from scipy.integrate import ode\n",
    "\n",
    "# Calculo variacional con las diferentes familias\n",
    "\n",
    "def energia_gauss(a,u):\n",
    "    return a**2/2- u*a/sqrt(1+a**2)\n",
    "\n",
    "\n",
    "def energia_armonica(a,u):\n",
    "    return (pi/2*a)**2  - \\\n",
    "            sqrt(pi)/2.* u*a*(erf(1./(a+1e-12)) +  \\\n",
    "            exp(-(pi*a/2)**2)*(erf(1./(a+1e-12) +1j*a*pi/2.)).real  ) \n",
    "\n",
    "def energia_exp(a,u):\n",
    "    return (a**2- sqrt(pi)* u * a * exp(-a**2)*(1-erf(a)))\n",
    "\n",
    "\n",
    "def variational_energy(u,en):\n",
    "    return minimize_scalar(en,args=(u),bounds=(.0001,10)).fun\n",
    "\n",
    "def variational_energy_and_coeff(u,en):\n",
    "    res = minimize_scalar(en,args=(u),bounds=(.0001,10))\n",
    "    return (res.fun,res.x)\n",
    "\n",
    "\n",
    "# Solución por método de Shooting\n",
    "\n",
    "\n",
    "def schroedinger_equation2(x,psi2,en,utilde):\n",
    "    \"\"\"\n",
    "    A partir del valor de x, psi2=(psi,psi'),\n",
    "    la energía, y la constante de acoplamiento reducida,\n",
    "    calcula la derivada segunda de psi(x) de acuerdo a la\n",
    "    ecuación de Schrödinger, y devuelve el array\n",
    "    np.array([psi',psi''])\n",
    "    \n",
    "    \"\"\"\n",
    "    ddpsi = -(en + utilde * np.exp(-(x)**2))*psi2[0]\n",
    "    #ddpsi = -(en + utilde * (1-(x)**2))*psi2[0]\n",
    "    return np.array([psi2[1],ddpsi])\n",
    "\n",
    "def ln_boundary_value(E,utilde,bc1=\"dirichlet\",bc2=\"dirichlet\",xmax=10):\n",
    "    \"\"\"\n",
    "    Dada la energía, el valor de la constante de acoplamiento,\n",
    "    y las condiciones de borde en x=0, calcula el valor de la función \n",
    "    (o su derivada) en x=xmax\n",
    "    \"\"\"\n",
    "    bc_init_vals={'dirichlet':np.array([0,1]),\n",
    "                  'spherical':np.array([0,1]),\n",
    "                  'neumann':np.array([1,0]),\n",
    "                 }\n",
    "    target_bc={'dirichlet':0,\n",
    "                'spherical':0,\n",
    "                  'neumann':1,\n",
    "             }\n",
    "    \n",
    "    solver=ode(schroedinger_equation2)\n",
    "    solver.set_integrator(\"dop853\",nsteps=1000)\n",
    "    solver.set_f_params(E,utilde)\n",
    "    solver.set_initial_value(bc_init_vals[bc1])\n",
    "    return (np.log(np.abs(solver.integrate(xmax)[target_bc[bc2]])+1.e-12))\n",
    "\n",
    "\n",
    "def eigenfunction(values,E,utilde,bc1=\"dirichlet\",bc2=\"dirichlet\",xmax=10):\n",
    "    \"\"\"\n",
    "    Dada la energía, el valor de la constante de acoplamiento,\n",
    "    y las condiciones de borde en x=0, calcula el valor de la función \n",
    "    (o su derivada) en x=xmax\n",
    "    \"\"\"\n",
    "    bc_init_vals={'dirichlet':np.array([0,1]),\n",
    "                  'spherical':np.array([0,1]),\n",
    "                  'neumann':np.array([1,0]),\n",
    "                 }\n",
    "    target_bc={'dirichlet':0,\n",
    "                'spherical':0,\n",
    "                  'neumann':1,\n",
    "             }\n",
    "    \n",
    "    solver=ode(schroedinger_equation2)\n",
    "    solver.set_integrator(\"dop853\",nsteps=1000)\n",
    "    solver.set_f_params(E,utilde)\n",
    "    solver.set_initial_value(bc_init_vals[bc1])\n",
    "    res = []\n",
    "    for x in values:\n",
    "        res.append(solver.integrate(x)[0])\n",
    "    return res\n",
    "\n",
    "\n",
    "def find_spectrum(utilde,bounds=None,bc1=\"dirichlet\",bc2=\"dirichlet\",xmax=10):\n",
    "    if bounds is None:\n",
    "        if utilde<.3:  #aprovechamos lo que aprendimos con el método variacional\n",
    "            bounds=(-utilde,0.)\n",
    "        else:\n",
    "            bounds=(-utilde,min(-utilde+np.sqrt(utilde),0))\n",
    "    \n",
    "    energies = np.linspace(bounds[0],bounds[1],400)     \n",
    "    values = np.array([ln_boundary_value(en, utilde,bc1,bc2,xmax) for en in energies])\n",
    "    spectrum = []         \n",
    "    for i in range(len(energies)-2):\n",
    "        if values[i-1]> values[i] and values[i+1]> values[i]:\n",
    "            spectrum.append(energies[i])\n",
    "    return spectrum\n",
    "        \n",
    "    "
   ]
  },
  {
   "cell_type": "code",
   "execution_count": 152,
   "metadata": {
    "collapsed": false
   },
   "outputs": [
    {
     "data": {
      "image/png": "[encoded data removed]",
      "text/plain": [
       "<matplotlib.figure.Figure at 0x7fd96d0015c0>"
      ]
     },
     "metadata": {},
     "output_type": "display_data"
    }
   ],
   "source": [
    "urange = linspace(1e-3,.3,20)\n",
    "exactgse=[]\n",
    "for u in urange:\n",
    "    newspectrum = find_spectrum(u,bc1=\"neumann\",xmax=30)\n",
    "    if len(newspectrum)>0:\n",
    "        exactgse.append(newspectrum[0])\n",
    "    else:\n",
    "        exactgse.append(0.)\n",
    "\n",
    "\n",
    "ax1=plt.subplot(111)\n",
    "urange = linspace(1e-3,.3,20)\n",
    "opt_arm = array([ variational_energy(u,energia_armonica)   for u in urange])\n",
    "opt_exp = array([ variational_energy(u,energia_exp)   for u in urange])\n",
    "opt_gauss = array([ variational_energy(u,energia_gauss)   for u in urange])\n",
    "\n",
    "\n",
    "\n",
    "ax1.plot(urange,opt_gauss,label=\"var Gaussiana\")\n",
    "ax1.plot(urange,opt_exp,label=\"var exp\")\n",
    "ax1.plot(urange,opt_arm,label=\"var armonica\")\n",
    "ax1.plot(urange,array([-pi*u**2/5. for u in urange]),\".\",label=\"pseudo pot\")\n",
    "ax1.plot(urange,exactgse,\"*\",label=\"exact\")\n",
    "ax1.legend(loc=0)\n",
    "plt.title(\"U<<1 variacional, pseudo potencial y exacto\")\n",
    "plt.show()\n"
   ]
  },
  {
   "cell_type": "code",
   "execution_count": 150,
   "metadata": {
    "collapsed": false
   },
   "outputs": [
    {
     "name": "stdout",
     "output_type": "stream",
     "text": [
      "-0.0245614035088\n"
     ]
    },
    {
     "name": "stderr",
     "output_type": "stream",
     "text": [
      "/opt/anaconda/lib/python3.5/site-packages/scipy/integrate/_ode.py:1018: UserWarning: dop853: step size becomes too small\n",
      "  self.messages.get(idid, 'Unexpected idid=%s' % idid))\n"
     ]
    },
    {
     "data": {
      "image/png": "[encoded data removed]",
      "text/plain": [
       "<matplotlib.figure.Figure at 0x7fd96d2e0fd0>"
      ]
     },
     "metadata": {},
     "output_type": "display_data"
    }
   ],
   "source": [
    "alpha=variational_energy_and_coeff(.2,energia_exp)[1]\n",
    "xvals=np.linspace(0,2/alpha,40)\n",
    "yvals=np.array([exp(-alpha*x) for x in xvals])\n",
    "\n",
    "e0shoot=find_spectrum(.2,bc1=\"neumann\",xmax=50)\n",
    "if len(e0shoot)>0:\n",
    "    e0shoot=e0shoot[0]\n",
    "    print(e0shoot)\n",
    "    psishoot=eigenfunction(xvals,e0shoot,.2,bc1=\"neumann\")\n",
    "    plt.plot(xvals,yvals)\n",
    "    plt.plot(xvals,psishoot)\n",
    "    plt.title(\"Función de onda del estado fundamental\")"
   ]
  },
  {
   "cell_type": "code",
   "execution_count": 148,
   "metadata": {
    "collapsed": false
   },
   "outputs": [
    {
     "data": {
      "image/png": "[encoded data removed]",
      "text/plain": [
       "<matplotlib.figure.Figure at 0x7fd96d4ad978>"
      ]
     },
     "metadata": {},
     "output_type": "display_data"
    }
   ],
   "source": [
    "urange = linspace(1e-3,25.,20)\n",
    "exactgse=[]\n",
    "for u in urange:\n",
    "    newspectrum = find_spectrum(u,bc1=\"neumann\")\n",
    "    if len(newspectrum)>0:\n",
    "        exactgse.append(newspectrum[0])\n",
    "    else:\n",
    "        exactgse.append(0.)\n",
    "\n",
    "\n",
    "ax2=plt.subplot(111)\n",
    "urange = linspace(1e-3,25.,20)\n",
    "opt_arm = array([ variational_energy(u,energia_armonica)   for u in urange])\n",
    "opt_exp = array([ variational_energy(u,energia_exp)   for u in urange])\n",
    "opt_gauss = array([ variational_energy(u,energia_gauss)   for u in urange])\n",
    "\n",
    "\n",
    "\n",
    "ax2.plot(urange,opt_gauss,label=\"var Gaussiana\")\n",
    "ax2.plot(urange,opt_exp,label=\"var exp\")\n",
    "ax2.plot(urange,opt_arm,label=\"var armonica\")\n",
    "ax2.plot(urange,array([-u + sqrt(u) for u in urange]),\".\",label=\"oscilador armónico\")\n",
    "ax2.plot(urange,exactgse,\"*\",label=\"exacta\")\n",
    "ax2.legend(loc=0)\n",
    "plt.title(\"U>>1 variacional, aproximación como oscilador armónico y exacto\")\n",
    "plt.show()\n"
   ]
  },
  {
   "cell_type": "code",
   "execution_count": null,
   "metadata": {
    "collapsed": true
   },
   "outputs": [],
   "source": []
  },
  {
   "cell_type": "markdown",
   "metadata": {},
   "source": [
    "# Discusión"
   ]
  },
  {
   "cell_type": "markdown",
   "metadata": {},
   "source": [
    "El método variacional nos permite encontrar, sin necesidad de resolver la ecuación de Schröedinger, una cota superior para la energía del estado fundamental, que sólo requiere optimizar una función con un número finito de parámetros (en este caso, un único parámetro). La aproximación perturbativa, si bien no prové de una cota a la energía, puede resultar muy precisa si el potencial se parece lo suficiente a un potencial soluble, al menos en la región donde la función de onda del estado fundamental tiene su soporte. Por otro lado, para Hamiltonianos en una dimensión vimos que el metodo de \"shooting\" permite, si tenemos una idea aproximada del valor de la energía en el nivel fundamental, resolver la ecuación de Schrödinger con mucha precisión."
   ]
  },
  {
   "cell_type": "markdown",
   "metadata": {},
   "source": [
    "Para el caso del potencial gaussiano, vimos que cuando el parámetro adimensional $\\tilde{U}_{0}$ resulta pequeño, la aproximación variacional basada en exponenciales resulta ser mejor que la aproximación con funciones gaussianas. Sin embargo, vemos que la solución vía el método de Shooting sugiere que la energía del verdadero estado fundamental sería más baja. "
   ]
  },
  {
   "cell_type": "markdown",
   "metadata": {},
   "source": [
    "En el límite de $\\tilde{U}_{0}\\gg 1$, vemos que la familia de funciones gaussianas da una mejor estimación a la energía del estado fundamental, que resulta ser prácticamente igual al resultado vía el método de shooting, mientras que la aproximación \"perturbativa\" vía el potencial de oscilador armónico provee un valor ligeramente más alto.  "
   ]
  }
 ],
 "metadata": {
  "anaconda-cloud": {},
  "hide_input": false,
  "kernelspec": {
   "display_name": "Python [default]",
   "language": "python",
   "name": "python3"
  },
  "language_info": {
   "codemirror_mode": {
    "name": "ipython",
    "version": 3
   },
   "file_extension": ".py",
   "mimetype": "text/x-python",
   "name": "python",
   "nbconvert_exporter": "python",
   "pygments_lexer": "ipython3",
   "version": "3.5.1"
  },
  "latex_envs": {
   "bibliofile": "biblio.bib",
   "cite_by": "apalike",
   "current_citInitial": 1,
   "eqLabelWithNumbers": true,
   "eqNumInitial": 0
  },
  "toc": {
   "toc_cell": false,
   "toc_number_sections": true,
   "toc_threshold": 6,
   "toc_window_display": false
  }
 },
 "nbformat": 4,
 "nbformat_minor": 0
}
