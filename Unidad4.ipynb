{
 "cells": [
  {
   "cell_type": "markdown",
   "metadata": {},
   "source": [
    "Fecha: 25/04/2019\n",
    "\n",
    "Introducción a la Programación y Análisis Numérico - Unidad 4\n",
    "============\n",
    "\n",
    "**Ej. 1** Se tiene un sistema de ecuaciones lineales expresado mediante la igualdad matricial $A\\mathbf{x}=\\mathbf{b}$, donde $A$ es la matriz de coeficientes, $\\mathbf{x}$ es el vector de incógnitas y $\\mathbf{b}$ el vector de términos independientes. Indicar si las siguientes proposiciones son _verdaderas_ o _falsas_ justificando su afirmación. \n",
    ">**a)** Para asegurarnos de que el sistema tiene solución debemos verificar que $det(A)\\neq 0$.  \n",
    ">**b)** Si $det(A)=0$, existirán infinitas soluciones al sistema.  \n",
    ">**c)** Si la matriz $A$ no es cuadrada, no puede haber solución única.  \n",
    ">**d)** Aunque el sistema tenga solución, si el número de condición $cond(A)\\gg 1$, no se puede confiar en la solución numérica del sistema.  \n",
    ">**e)** Si $det(A)\\neq0$, el sistema tiene solución única y por lo tanto es bien condicionado.  \n",
    ">**f)** Si $A$ está bien condicionada, entonces cualquier algoritmo será igual de eficiente para hallar una solución numérica del sistema.\n",
    "\n",
    "<!--- **Solución:** Se observan dos puntos de intersección, uno en torno a (0,0) y el segundo en torno a (2,2).  \n",
    ">*Aclaración*: la recta vertical que se observa a la derecha de x=1.5 no forma parte de la gráfica de la función $f$ sino que es la asíntota de dicha función.-->\n"
   ]
  },
  {
   "cell_type": "markdown",
   "metadata": {},
   "source": [
    "**Ej. 2** El siguiente código de Octave permite encontrar la solución numérica del sistema $A\\mathbf{x}=\\mathbf{b}$ mediante eliminación Gaussiana."
   ]
  },
  {
   "cell_type": "code",
   "execution_count": null,
   "metadata": {},
   "outputs": [],
   "source": [
    "function[A,b,x]=EGauss(A,b)\n",
    "  \n",
    "%ENTRADA: A = matriz de coeficientes\n",
    "%         b = vector de términos independientes\n",
    "%SALIDA : A,b del sistema reducido equivalente\n",
    "%         x = [x1, x1,..,xn] solución del sistema lineal o mensaje de error\n",
    "%%\n",
    "[r1,r2] = size(A);\n",
    "if (r1~=r2|r1~=length(b)), \n",
    "  error('A y b deben tener dimensiones compatibles'); \n",
    "end\n",
    "  %\n",
    "% Eliminación hacia adelante\n",
    "for k = 1:r1-1\n",
    "        for m = k+1:r1\n",
    "           for n = k+1:r2 \n",
    "             A(m,n) = A(m,n) - (A(m,k)/A(k,k))*A(k,n); \n",
    "           end\n",
    "          b(m)=b(m)-b(k)*A(m,k)/A(k,k); \n",
    "          A(m,k)=0; % se hace 0 la columna k debajo del pivote\n",
    "        end        \n",
    "end\n",
    "%%\n",
    "% sustitución hacia atrás\n",
    "x(r1)=b(r1)/A(r1,r1);  \n",
    "for m = r1-1: -1:1\n",
    "    s=0;\n",
    "    for n = m+1:r1\n",
    "      s=s+A(m,n)*x(n); % suma\n",
    "    end\n",
    "    x(m)=(b(m)-s)/A(m,m)\n",
    "end\n",
    "     \n",
    "endfunction"
   ]
  },
  {
   "cell_type": "markdown",
   "metadata": {},
   "source": [
    "**a)** ¿Puede utilizarse para resolver el sistema si la matriz $A$ no es cuadrada? ¿Qué resulta de la ejecución del código en tales casos?  \n",
    "**b)** ¿Qué sucede cuándo $A(k,k)=0$ para algún $k$? ¿Qué estrategia debería implementarse para que el código tenga en cuenta esta posibilidad? Explique en qué consiste la misma.  \n",
    "**c)** ¿Qué sucede cuándo $A(m,k)/A(k,k)\\ll 1$ para algún $k$ y $m$, o $A(k,n)/A(k,k)\\ll 1$ para algún $k$ y $n$? ¿Qué estrategia debería implementarse para que el código tenga en cuenta ambas posibilidades? Explique en qué consiste/n la/s misma/s.    \n",
    "\n",
    "<!---**a)** Calcular el número de operaciones de punto flontate que se realizan durante la ejecución del algoritmo. Considerar tanto las realizadas para la eliminación hacia adelante como las que se realizan en la sustitución hacia atrás.-->\n",
    "\n",
    "<!---**Solución:** **i.** Se mantienen los mismos valores para los parámetros de entrada TolX y MaxIter pero cambió el valor del extremo superior del intervalo inicial ($b=3\\rightarrow 2$). La sentencia a tipear es entonces **bisec(g,1.5,2,1\\*10^-4,50)**; el algoritmo se ejecuta y arroja como resultado **x=1.5707**. **ii** El resultado que se encuentra como estimación de la raíz de $g$ es erróneo. Según se ve de la **Figura 1**, cuando el valor de $x$ se acerca a $\\pi/2$ la función $f$ tiene una asíntota vertical, con lo cual no puede intersectarse con la recta $y=x$, y por lo tanto $g(x)=f(x)-x$ no se anulará. Si evaluamos la función $g$ en el valor obtenido como estimación, obtenemos **g(1.5707)=-1.0383e+04**, que está muy lejos de ser 0, y la situación no mejora al aumentar el número de iteraciones. Aunque en este caso la ejecución del algoritmo no produce un mensaje de error ya que $g(1.5).g(2)<0$, y por lo tanto el algoritmo se ejecuta, la solución que encuentra no es la correcta. Esto sucede debido a que la función $g$ no es continua en el intervalo de búsqueda, condición necesaria para afirmar que $g$ pasará por el valor 0 antes de cambiar de signo, afirmación en la que se basa el *método de bisección*.-->  \n"
   ]
  }
 ],
 "metadata": {
  "anaconda-cloud": {},
  "kernelspec": {
   "display_name": "Octave",
   "language": "octave",
   "name": "octave"
  },
  "language_info": {
   "file_extension": ".m",
   "help_links": [
    {
     "text": "GNU Octave",
     "url": "https://www.gnu.org/software/octave/support.html"
    },
    {
     "text": "Octave Kernel",
     "url": "https://github.com/Calysto/octave_kernel"
    },
    {
     "text": "MetaKernel Magics",
     "url": "https://github.com/calysto/metakernel/blob/master/metakernel/magics/README.md"
    }
   ],
   "mimetype": "text/x-octave",
   "name": "octave",
   "version": "4.2.2"
  },
  "latex_envs": {
   "LaTeX_envs_menu_present": true,
   "autoclose": false,
   "autocomplete": true,
   "bibliofile": "biblio.bib",
   "cite_by": "apalike",
   "current_citInitial": 1,
   "eqLabelWithNumbers": true,
   "eqNumInitial": 1,
   "hotkeys": {
    "equation": "Ctrl-E",
    "itemize": "Ctrl-I"
   },
   "labels_anchors": false,
   "latex_user_defs": false,
   "report_style_numbering": false,
   "user_envs_cfg": false
  }
 },
 "nbformat": 4,
 "nbformat_minor": 1
}
