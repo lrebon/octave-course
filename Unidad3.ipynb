{
 "cells": [
  {
   "cell_type": "markdown",
   "metadata": {},
   "source": [
    "Fecha: 04/04/2019\n",
    "\n",
    "Introducción a la Programación y Análisis Numérico - Unidad 3\n",
    "============\n",
    "\n",
    "**a)** Se quiere encontrar los puntos de intersección de la función $f(x)=\\mathrm{tan}(\\pi-x)$ con la recta $y=x$. Encontrar gráficamente las soluciones en el intervalo $\\left[-\\pi/2,3\\pi/2\\right]$. Indicar cuántas soluciones hay y alrededor de qué valores se encuentran.  \n",
    "\n",
    "**Solución:** Se observan dos puntos de intersección, uno en torno a (0,0) y el segundo en torno a (2,2).  \n",
    ">*Aclaración*: la recta vertical que se observa a la derecha de x=1.5 no forma parte de la gráfica de la función $f$ sino que es la asíntota de dicha función."
   ]
  },
  {
   "cell_type": "code",
   "execution_count": 2,
   "metadata": {
    "scrolled": true
   },
   "outputs": [
    {
     "data": {
      "image/png": "[encoded data removed]",
      "text/plain": [
       "<IPython.core.display.Image object>"
      ]
     },
     "metadata": {},
     "output_type": "display_data"
    }
   ],
   "source": [
    "f=@(x)tan(pi-x);\n",
    "x=-pi/2:0.01:3*pi/2;\n",
    "plot(x,f(x),x,x)\n",
    "axis([-pi/2 3*pi/2 -5 5])\n",
    "grid on\n",
    "xlabel('Figura 1','FontSize',16,'FontWeight','bold')"
   ]
  },
  {
   "cell_type": "markdown",
   "metadata": {
    "collapsed": true
   },
   "source": [
    "**b)** A los fines de encontrar una aproximación numérica a la solución en el intervalo $\\left[1.5,3\\right]$ uno de los  estudiante decide utilizar el código bisec.m visto en clase, el cual implementa el algoritmo de bisección, y tipea la sentencia **bisec(g,1.5,3,1\\*10^-4,50)**.  \n",
    "\n",
    "**i.**  ¿Cómo ha de definir la función g para lo que se propone?  \n",
    "**ii.** ¿Qué solución obtiene? ¿Por qué?  \n",
    "\n",
    "**Solución:** **i.** Como los puntos de intersección de la gráfica son tales que $\\mathrm{tan}(\\pi-x)=x$, para poder encontralos mediante el *método de bisección*, el cual calcula raíces de una función $g$, se debe definir $g(x)=f(x)-x=\\mathrm{tan}(\\pi-x)-x$. **ii.** El resultado de la ejecución del algoritmo para estos parámetros de entrada resulta en el mensaje **¡¡¡Error!!!**. Esto sucede debido a que, como se ve de la **Figura 1**, tanto en $x=1.5$ como en $x=3$ la función $f$ está por debajo de la recta $y=x$, es decir que el valor de la resta $\\mathrm{tan}(\\pi-x)-x$ es en ambos casos negativo, por lo tanto $g(a).g(b)>0$ y no se ejecuta el algoritmo de bisección (ver línea 14 del código bisec.m)."
   ]
  },
  {
   "cell_type": "code",
   "execution_count": null,
   "metadata": {},
   "outputs": [],
   "source": [
    "function [x] = bisec(g,a,b,TolX,MaxIter)\n",
    "%%\n",
    "%bisec.m resuelve la igualdad g(x) = 0 mediante el método de bisección.\n",
    "%ENTRADAS: g = función definida por línea de comando como función anónima\n",
    "         % a,b = extremos del intervalo en donde se busca una raíz de g\n",
    "         % TolX = cota superior del error |x(k) - x0|\n",
    "         % MaxIter = máximo número de iteraciones\n",
    "% SALIDA: x = valor que devuelve el algoritmo como aproximación a la raíz de g\n",
    "%%\n",
    "ga = g(a); \n",
    "gb = g(b);\n",
    "if ga*gb > 0, \n",
    "    fprintf('¡¡¡Error!!!'), \n",
    "end\n",
    "for k = 1: MaxIter\n",
    "  xx = (a + b)/2; \n",
    "  gx = g(xx); \n",
    "  err = (b-a)/2; \n",
    "   if abs(err)<TolX, \n",
    "       break; \n",
    "   elseif gx*ga > 0,                       \n",
    "       a = xx;       \n",
    "       ga = gx;\n",
    "   else\n",
    "       b = xx;       \n",
    "   end               \n",
    "end\n",
    "x = xx;\n",
    "if k==MaxIter,     \n",
    "    fprintf('La mejor estimación luego de %d iteraciones\\n',MaxIter), \n",
    "end"
   ]
  },
  {
   "cell_type": "markdown",
   "metadata": {},
   "source": [
    "**c)** Un segundo estudiante propone utilizar el código con los mismos parámetros de entrada pero realizando la búsqueda en un intervalo menor $\\left[1.5,2\\right]$.    \n",
    "\n",
    "**i.** ¿Qué sentencia deberá tipear? ¿Qué solución obtiene?  \n",
    "**ii.** ¿Es la solución correcta? ¿Cómo lo sabe? Explicar por qué se llega a este resultado.  \n",
    "\n",
    "**Solución:** **i.** Se mantienen los mismos valores para los parámetros de entrada TolX y MaxIter pero cambió el valor del extremo superior del intervalo inicial ($b=3\\rightarrow 2$). La sentencia a tipear es entonces **bisec(g,1.5,2,1\\*10^-4,50)**; el algoritmo se ejecuta y arroja como resultado **x=1.5707**. **ii** El resultado que se encuentra como estimación de la raíz de $g$ es erróneo. Según se ve de la **Figura 1**, cuando el valor de $x$ se acerca a $\\pi/2$ la función $f$ tiene una asíntota vertical, con lo cual no puede intersectarse con la recta $y=x$, y por lo tanto $g(x)=f(x)-x$ no se anulará. Si evaluamos la función $g$ en el valor obtenido como estimación, obtenemos **g(1.5707)=-1.0383e+04**, que está muy lejos de ser 0, y la situación no mejora al aumentar el número de iteraciones. Aunque en este caso la ejecución del algoritmo no produce un mensaje de error ya que $g(1.5).g(2)<0$, y por lo tanto el algoritmo se ejecuta, la solución que encuentra no es la correcta. Esto sucede debido a que la función $g$ no es continua en el intervalo de búsqueda, condición necesaria para afirmar que $g$ pasará por el valor 0 antes de cambiar de signo, afirmación en la que se basa el *método de bisección*.  \n",
    "\n",
    "**d)** Vanina, una tercer estudiante del curso, decide utilizar el método de punto fijo para encontrar la solución cercana a $x=2$. Para ello decide probar con dos funciones para la iteración de punto fijo: $h_1(x)=\\mathrm{tan}(\\pi-x)$ y $h_2(x)=\\pi-\\mathrm{tan}^{-1}(x)$, tomando como valor inicial $x_0=2$. ¿Cuál de las dos opciones es la indicada para hallar la solución? ¿Por qué?  \n",
    "\n",
    "**Solución:** En el intervalo $\\left[1.5,3\\right]$ ambas funciones tienen un único punto fijo $x^o$, como se puede observar en la **Figura 2**. La convergencia del algoritmo de *punto fijo* estará garantizada cuando la función $h$ elegida para la iteración ($x_k=h(x_{k-1})$) es continua en un entorno de $x^o$ y además $\\vert h'(x)\\vert \\le c <1$. Entonces, la función adecuada será $h_2$ ya que $\\vert h_2'(x)\\vert <0.5$ en $\\left[1.5,3\\right]$, en tanto que $\\vert h_1'(x)\\vert >1$ (**Figura 3**)."
   ]
  },
  {
   "cell_type": "code",
   "execution_count": 2,
   "metadata": {
    "scrolled": false
   },
   "outputs": [
    {
     "data": {
      "image/png": "[encoded data removed]",
      "text/plain": [
       "<IPython.core.display.Image object>"
      ]
     },
     "metadata": {},
     "output_type": "display_data"
    }
   ],
   "source": [
    "Dh1=@(x) -1./(cos(x).^2);\n",
    "Dh2=@(x) -1./(1+x.^2);\n",
    "h1=@(x) tan(pi-x);\n",
    "h2=@(x) pi-tan(x).^-1;\n",
    "t=1.51:0.01:3;\n",
    "subplot(1,2,1)\n",
    "plot(t,h1(t),t,h2(t),t,t)\n",
    "axis([1.51 3 -2 5])\n",
    "grid on\n",
    "xlabel('Figura 2','FontSize',16,'FontWeight','bold')\n",
    "text(2.6,4.2,'h1(x)','FontSize',16,'FontWeight','bold')\n",
    "text(1.7,1,'h2(x)','FontSize',16,'FontWeight','bold')\n",
    "text(2.4,2.7,'y=x','FontSize',16,'FontWeight','bold')\n",
    "subplot(1,2,2)\n",
    "plot(t,Dh1(t),t,Dh2(t))\n",
    "axis([1.6 3 -3 1])\n",
    "grid on\n",
    "xlabel('Figura 3','FontSize',16,'FontWeight','bold')\n",
    "text(2,-2,'Dh1(x)','FontSize',16,'FontWeight','bold')\n",
    "text(2.2,0.2,'Dh2(x)','FontSize',16,'FontWeight','bold')"
   ]
  }
 ],
 "metadata": {
  "anaconda-cloud": {},
  "kernelspec": {
   "display_name": "Octave",
   "language": "octave",
   "name": "octave"
  },
  "language_info": {
   "file_extension": ".m",
   "help_links": [
    {
     "text": "GNU Octave",
     "url": "https://www.gnu.org/software/octave/support.html"
    },
    {
     "text": "Octave Kernel",
     "url": "https://github.com/Calysto/octave_kernel"
    },
    {
     "text": "MetaKernel Magics",
     "url": "https://github.com/calysto/metakernel/blob/master/metakernel/magics/README.md"
    }
   ],
   "mimetype": "text/x-octave",
   "name": "octave",
   "version": "4.2.2"
  },
  "latex_envs": {
   "LaTeX_envs_menu_present": true,
   "autoclose": false,
   "autocomplete": true,
   "bibliofile": "biblio.bib",
   "cite_by": "apalike",
   "current_citInitial": 1,
   "eqLabelWithNumbers": true,
   "eqNumInitial": 1,
   "hotkeys": {
    "equation": "Ctrl-E",
    "itemize": "Ctrl-I"
   },
   "labels_anchors": false,
   "latex_user_defs": false,
   "report_style_numbering": false,
   "user_envs_cfg": false
  }
 },
 "nbformat": 4,
 "nbformat_minor": 1
}
